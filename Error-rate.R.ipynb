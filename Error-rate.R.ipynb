{
 "cells": [
  {
   "cell_type": "markdown",
   "metadata": {},
   "source": [
    "# Estimating error rates using HiSeq data with spiked-in EHEB clone"
   ]
  },
  {
   "cell_type": "code",
   "execution_count": 3,
   "metadata": {
    "collapsed": false,
    "scrolled": false
   },
   "outputs": [
    {
     "data": {
      "text/html": [
       "<table>\n",
       "<thead><tr><th></th><th scope=col>freq</th><th scope=col>count</th><th scope=col>v</th><th scope=col>d</th><th scope=col>j</th><th scope=col>cdr3nt</th><th scope=col>cdr3aa</th><th scope=col>mutations.FR1</th><th scope=col>mutations.CDR1</th><th scope=col>mutations.FR2</th><th scope=col>ellip.h</th><th scope=col>pol.v</th><th scope=col>pol.d.5</th><th scope=col>pol.d.3</th><th scope=col>pol.j</th><th scope=col>has.cdr3</th><th scope=col>in.frame</th><th scope=col>no.stop</th><th scope=col>complete</th><th scope=col>canonical</th><th scope=col>Sample</th></tr></thead>\n",
       "<tbody>\n",
       "\t<tr><th scope=row>1</th><td>0.2983606</td><td>181334</td><td>IGHV1-18*01</td><td>IGHD4-17*01</td><td>IGHJ1*01</td><td>TGTGCGAGAGATGATGGCGGGGGAAAGGGTGACTACGGAAGACTTTGG</td><td>CARDDGGGKGDYGRLW</td><td>NA</td><td>NA</td><td>NA</td><td><e2><8b><af></td><td>-1</td><td>-1</td><td>-1</td><td>-1</td><td>true</td><td>true</td><td>true</td><td>true</td><td>true</td><td>S1</td></tr>\n",
       "\t<tr><th scope=row>2</th><td>0.02974819</td><td>18080</td><td>IGHV4-38-2*01</td><td>IGHD4-23*01</td><td>IGHJ5*01</td><td>TGTGCGAGAGACTACGGTGGTAACGCCTACAACTGGTTCGACCCCTGG</td><td>CARDYGGNAYNWFDPW</td><td>NA</td><td>NA</td><td>NA</td><td><e2><8b><af></td><td>-1</td><td>-1</td><td>-1</td><td>-1</td><td>true</td><td>true</td><td>true</td><td>true</td><td>true</td><td>S1</td></tr>\n",
       "\t<tr><th scope=row>3</th><td>0.02297094</td><td>13961</td><td>IGHV4-38-2*01</td><td>IGHD4-23*01</td><td>IGHJ5*01</td><td>TGTGCGAGAGACTACGGTGGTAACGCCTACAACTGGTTCGACCCCTGG</td><td>CARDYGGNAYNWFDPW</td><td>NA</td><td>NA</td><td>NA</td><td><e2><8b><af></td><td>-1</td><td>-1</td><td>-1</td><td>-1</td><td>true</td><td>true</td><td>true</td><td>true</td><td>true</td><td>S1</td></tr>\n",
       "\t<tr><th scope=row>4</th><td>0.01999776</td><td>12154</td><td>IGHV4-38-2*01</td><td>IGHD4-23*01</td><td>IGHJ5*01</td><td>TGTGCGAGAGACTACGGTGGTAACGCCTACAACTGGTTCGACCCCTGG</td><td>CARDYGGNAYNWFDPW</td><td>NA</td><td>NA</td><td>NA</td><td><e2><8b><af></td><td>-1</td><td>-1</td><td>-1</td><td>-1</td><td>true</td><td>true</td><td>true</td><td>true</td><td>true</td><td>S1</td></tr>\n",
       "\t<tr><th scope=row>5</th><td>0.01752313</td><td>10650</td><td>IGHV3-74*01</td><td>IGHD2-2*01</td><td>IGHJ4*01</td><td>TGTGGAAGAGACTTCCGCGCGGGAGTCCCAGCTGAGTACTCG</td><td>CGRDFRAGVPAEYS</td><td>NA</td><td>NA</td><td>NA</td><td><e2><8b><af></td><td>14</td><td>-1</td><td>-1</td><td>-1</td><td>true</td><td>true</td><td>true</td><td>true</td><td>false</td><td>S1</td></tr>\n",
       "\t<tr><th scope=row>6</th><td>0.01137112</td><td>6911</td><td>IGHV4-38-2*01</td><td>IGHD4-23*01</td><td>IGHJ5*01</td><td>TGTGCGACAGACTACGGTGGTAACGCCTACAACTGGTTCGACCCCTGG</td><td>CATDYGGNAYNWFDPW</td><td>NA</td><td>NA</td><td>NA</td><td><e2><8b><af></td><td>-1</td><td>-1</td><td>-1</td><td>-1</td><td>true</td><td>true</td><td>true</td><td>true</td><td>true</td><td>S1</td></tr>\n",
       "</tbody>\n",
       "</table>\n"
      ],
      "text/latex": [
       "\\begin{tabular}{r|llllllllllllllllllllllllllllllllll}\n",
       "  & freq & count & v & d & j & cdr3nt & cdr3aa & mutations.FR1 & mutations.CDR1 & mutations.FR2 & ellip.h & pol.v & pol.d.5 & pol.d.3 & pol.j & has.cdr3 & in.frame & no.stop & complete & canonical & Sample\\\\\n",
       "\\hline\n",
       "\t1 & 0.2983606 & 181334 & IGHV1-18*01 & IGHD4-17*01 & IGHJ1*01 & TGTGCGAGAGATGATGGCGGGGGAAAGGGTGACTACGGAAGACTTTGG & CARDDGGGKGDYGRLW & NA & NA & NA & <e2><8b><af> & -1 & -1 & -1 & -1 & true & true & true & true & true & S1\\\\\n",
       "\t2 & 0.02974819 & 18080 & IGHV4-38-2*01 & IGHD4-23*01 & IGHJ5*01 & TGTGCGAGAGACTACGGTGGTAACGCCTACAACTGGTTCGACCCCTGG & CARDYGGNAYNWFDPW & NA & NA & NA & <e2><8b><af> & -1 & -1 & -1 & -1 & true & true & true & true & true & S1\\\\\n",
       "\t3 & 0.02297094 & 13961 & IGHV4-38-2*01 & IGHD4-23*01 & IGHJ5*01 & TGTGCGAGAGACTACGGTGGTAACGCCTACAACTGGTTCGACCCCTGG & CARDYGGNAYNWFDPW & NA & NA & NA & <e2><8b><af> & -1 & -1 & -1 & -1 & true & true & true & true & true & S1\\\\\n",
       "\t4 & 0.01999776 & 12154 & IGHV4-38-2*01 & IGHD4-23*01 & IGHJ5*01 & TGTGCGAGAGACTACGGTGGTAACGCCTACAACTGGTTCGACCCCTGG & CARDYGGNAYNWFDPW & NA & NA & NA & <e2><8b><af> & -1 & -1 & -1 & -1 & true & true & true & true & true & S1\\\\\n",
       "\t5 & 0.01752313 & 10650 & IGHV3-74*01 & IGHD2-2*01 & IGHJ4*01 & TGTGGAAGAGACTTCCGCGCGGGAGTCCCAGCTGAGTACTCG & CGRDFRAGVPAEYS & NA & NA & NA & <e2><8b><af> & 14 & -1 & -1 & -1 & true & true & true & true & false & S1\\\\\n",
       "\t6 & 0.01137112 & 6911 & IGHV4-38-2*01 & IGHD4-23*01 & IGHJ5*01 & TGTGCGACAGACTACGGTGGTAACGCCTACAACTGGTTCGACCCCTGG & CATDYGGNAYNWFDPW & NA & NA & NA & <e2><8b><af> & -1 & -1 & -1 & -1 & true & true & true & true & true & S1\\\\\n",
       "\\end{tabular}\n"
      ],
      "text/plain": [
       "        freq  count             v           d        j\n",
       "1 0.29836056 181334   IGHV1-18*01 IGHD4-17*01 IGHJ1*01\n",
       "2 0.02974819  18080 IGHV4-38-2*01 IGHD4-23*01 IGHJ5*01\n",
       "3 0.02297094  13961 IGHV4-38-2*01 IGHD4-23*01 IGHJ5*01\n",
       "4 0.01999776  12154 IGHV4-38-2*01 IGHD4-23*01 IGHJ5*01\n",
       "5 0.01752313  10650   IGHV3-74*01  IGHD2-2*01 IGHJ4*01\n",
       "6 0.01137112   6911 IGHV4-38-2*01 IGHD4-23*01 IGHJ5*01\n",
       "                                            cdr3nt           cdr3aa\n",
       "1 TGTGCGAGAGATGATGGCGGGGGAAAGGGTGACTACGGAAGACTTTGG CARDDGGGKGDYGRLW\n",
       "2 TGTGCGAGAGACTACGGTGGTAACGCCTACAACTGGTTCGACCCCTGG CARDYGGNAYNWFDPW\n",
       "3 TGTGCGAGAGACTACGGTGGTAACGCCTACAACTGGTTCGACCCCTGG CARDYGGNAYNWFDPW\n",
       "4 TGTGCGAGAGACTACGGTGGTAACGCCTACAACTGGTTCGACCCCTGG CARDYGGNAYNWFDPW\n",
       "5       TGTGGAAGAGACTTCCGCGCGGGAGTCCCAGCTGAGTACTCG   CGRDFRAGVPAEYS\n",
       "6 TGTGCGACAGACTACGGTGGTAACGCCTACAACTGGTTCGACCCCTGG CATDYGGNAYNWFDPW\n",
       "  mutations.FR1 mutations.CDR1 mutations.FR2 mutations.CDR2     mutations.FR3\n",
       "1            NA             NA            NA                S276:G>T,S278:G>C\n",
       "2            NA             NA            NA                S278:G>C,S284:C>T\n",
       "3            NA             NA            NA                                 \n",
       "4            NA             NA            NA                         S278:G>C\n",
       "5            NA             NA            NA                                 \n",
       "6            NA             NA            NA                         S278:G>C\n",
       "     mutations.CDR3     mutations.FR4           cdr.insert.qual mutations.qual\n",
       "1                            S341:C>A HHHHHHHHHHHHHHHHHHHHHHHHH            HGH\n",
       "2          S327:T>C          S338:A>G                      HHHH           HGHH\n",
       "3          S327:T>C          S338:A>G                      HHHH             HH\n",
       "4          S327:T>C          S338:A>G                      HHHH            GHH\n",
       "5 S289:C>G,S325:G>C          S332:A>G        HHHHHHHHHHHHHHGHHH            GGH\n",
       "6          S327:T>C S333:G>A,S338:A>G                    GHHHHH           HHGH\n",
       "  v.end.in.cdr3 d.start.in.cdr3 d.end.in.cdr3 j.start.in.cdr3 v.del d.del.5\n",
       "1            11              29            38              45     0       0\n",
       "2             9               9            24              28     0       1\n",
       "3             9               9            24              28     0       1\n",
       "4             9               9            24              28     0       1\n",
       "5            11              27            34              36     0      17\n",
       "6             7               9            24              28     2       1\n",
       "  d.del.3 j.del pol.v pol.d.5 pol.d.3 pol.j has.cdr3 in.frame no.stop complete\n",
       "1       7    18    -1      -1      -1    -1     true     true    true     true\n",
       "2       3     0    -1      -1      -1    -1     true     true    true     true\n",
       "3       3     0    -1      -1      -1    -1     true     true    true     true\n",
       "4       3     0    -1      -1      -1    -1     true     true    true     true\n",
       "5       7    11    14      -1      -1    -1     true     true    true     true\n",
       "6       3     0    -1      -1      -1    -1     true     true    true     true\n",
       "  canonical Sample\n",
       "1      true     S1\n",
       "2      true     S1\n",
       "3      true     S1\n",
       "4      true     S1\n",
       "5     false     S1\n",
       "6      true     S1"
      ]
     },
     "execution_count": 3,
     "metadata": {},
     "output_type": "execute_result"
    }
   ],
   "source": [
    "# Specifying file names\n",
    "data.dir <- \"C:/Users/User/projects-private/error-rate/datasets\"\n",
    "files <- c(\"S1_CONS.txt.gz\", \"S2_CONS.txt.gz\",\n",
    "           \"S3_CONS.txt.gz\", \"S4_CONS.txt.gz\")\n",
    "\n",
    "# Reading tables and supplying them with Sample name (\"$Sample\" column)\n",
    "load.sample <- function(file){\n",
    "  \n",
    "  file.name <- paste(data.dir, file, sep = \"/\")\n",
    "  df <- read.table(gzfile(file.name), header = T, sep = \"\\t\")\n",
    "  df$Sample <- strsplit(file, \"_\")[[1]][1]\n",
    "  df\n",
    "\n",
    "}\n",
    "\n",
    "# Concatenating data frames\n",
    "concatenate <- function(files){\n",
    "    \n",
    "    dataframe <- data.frame()\n",
    "    for(file in files){\n",
    "        df <- load.sample(file)\n",
    "        dataframe <- rbind(dataframe, df)\n",
    "    }\n",
    "    dataframe\n",
    "    \n",
    "}\n",
    "\n",
    "dataframe <- concatenate(files)\n",
    "\n",
    "head(dataframe)"
   ]
  },
  {
   "cell_type": "code",
   "execution_count": 5,
   "metadata": {
    "collapsed": false
   },
   "outputs": [
    {
     "name": "stdout",
     "output_type": "stream",
     "text": [
      "[1] \"Loaded 460451 clonotypes from 4 samples.\"\n"
     ]
    },
    {
     "data": {
      "text/html": [
       "<table>\n",
       "<thead><tr><th></th><th scope=col>freq</th><th scope=col>count</th><th scope=col>v</th><th scope=col>d</th><th scope=col>j</th><th scope=col>cdr3nt</th><th scope=col>cdr3aa</th><th scope=col>mutations.FR3</th><th scope=col>mutations.CDR3</th><th scope=col>mutations.FR4</th><th scope=col>cdr.insert.qual</th><th scope=col>mutations.qual</th><th scope=col>has.cdr3</th><th scope=col>in.frame</th><th scope=col>no.stop</th><th scope=col>complete</th><th scope=col>canonical</th><th scope=col>Sample</th></tr></thead>\n",
       "<tbody>\n",
       "\t<tr><th scope=row>1</th><td>0.2983606</td><td>181334</td><td>IGHV1-18*01</td><td>IGHD4-17*01</td><td>IGHJ1*01</td><td>TGTGCGAGAGATGATGGCGGGGGAAAGGGTGACTACGGAAGACTTTGG</td><td>CARDDGGGKGDYGRLW</td><td>S276:G>T,S278:G>C</td><td></td><td>S341:C>A</td><td>HHHHHHHHHHHHHHHHHHHHHHHHH</td><td>HGH</td><td>true</td><td>true</td><td>true</td><td>true</td><td>true</td><td>S1</td></tr>\n",
       "\t<tr><th scope=row>2</th><td>0.02974819</td><td>18080</td><td>IGHV4-38-2*01</td><td>IGHD4-23*01</td><td>IGHJ5*01</td><td>TGTGCGAGAGACTACGGTGGTAACGCCTACAACTGGTTCGACCCCTGG</td><td>CARDYGGNAYNWFDPW</td><td>S278:G>C,S284:C>T</td><td>S327:T>C</td><td>S338:A>G</td><td>HHHH</td><td>HGHH</td><td>true</td><td>true</td><td>true</td><td>true</td><td>true</td><td>S1</td></tr>\n",
       "\t<tr><th scope=row>3</th><td>0.02297094</td><td>13961</td><td>IGHV4-38-2*01</td><td>IGHD4-23*01</td><td>IGHJ5*01</td><td>TGTGCGAGAGACTACGGTGGTAACGCCTACAACTGGTTCGACCCCTGG</td><td>CARDYGGNAYNWFDPW</td><td></td><td>S327:T>C</td><td>S338:A>G</td><td>HHHH</td><td>HH</td><td>true</td><td>true</td><td>true</td><td>true</td><td>true</td><td>S1</td></tr>\n",
       "\t<tr><th scope=row>4</th><td>0.01999776</td><td>12154</td><td>IGHV4-38-2*01</td><td>IGHD4-23*01</td><td>IGHJ5*01</td><td>TGTGCGAGAGACTACGGTGGTAACGCCTACAACTGGTTCGACCCCTGG</td><td>CARDYGGNAYNWFDPW</td><td>S278:G>C</td><td>S327:T>C</td><td>S338:A>G</td><td>HHHH</td><td>GHH</td><td>true</td><td>true</td><td>true</td><td>true</td><td>true</td><td>S1</td></tr>\n",
       "\t<tr><th scope=row>5</th><td>0.01752313</td><td>10650</td><td>IGHV3-74*01</td><td>IGHD2-2*01</td><td>IGHJ4*01</td><td>TGTGGAAGAGACTTCCGCGCGGGAGTCCCAGCTGAGTACTCG</td><td>CGRDFRAGVPAEYS</td><td></td><td>S289:C>G,S325:G>C</td><td>S332:A>G</td><td>HHHHHHHHHHHHHHGHHH</td><td>GGH</td><td>true</td><td>true</td><td>true</td><td>true</td><td>false</td><td>S1</td></tr>\n",
       "\t<tr><th scope=row>6</th><td>0.01137112</td><td>6911</td><td>IGHV4-38-2*01</td><td>IGHD4-23*01</td><td>IGHJ5*01</td><td>TGTGCGACAGACTACGGTGGTAACGCCTACAACTGGTTCGACCCCTGG</td><td>CATDYGGNAYNWFDPW</td><td>S278:G>C</td><td>S327:T>C</td><td>S333:G>A,S338:A>G</td><td>GHHHHH</td><td>HHGH</td><td>true</td><td>true</td><td>true</td><td>true</td><td>true</td><td>S1</td></tr>\n",
       "</tbody>\n",
       "</table>\n"
      ],
      "text/latex": [
       "\\begin{tabular}{r|llllllllllllllllll}\n",
       "  & freq & count & v & d & j & cdr3nt & cdr3aa & mutations.FR3 & mutations.CDR3 & mutations.FR4 & cdr.insert.qual & mutations.qual & has.cdr3 & in.frame & no.stop & complete & canonical & Sample\\\\\n",
       "\\hline\n",
       "\t1 & 0.2983606 & 181334 & IGHV1-18*01 & IGHD4-17*01 & IGHJ1*01 & TGTGCGAGAGATGATGGCGGGGGAAAGGGTGACTACGGAAGACTTTGG & CARDDGGGKGDYGRLW & S276:G>T,S278:G>C &  & S341:C>A & HHHHHHHHHHHHHHHHHHHHHHHHH & HGH & true & true & true & true & true & S1\\\\\n",
       "\t2 & 0.02974819 & 18080 & IGHV4-38-2*01 & IGHD4-23*01 & IGHJ5*01 & TGTGCGAGAGACTACGGTGGTAACGCCTACAACTGGTTCGACCCCTGG & CARDYGGNAYNWFDPW & S278:G>C,S284:C>T & S327:T>C & S338:A>G & HHHH & HGHH & true & true & true & true & true & S1\\\\\n",
       "\t3 & 0.02297094 & 13961 & IGHV4-38-2*01 & IGHD4-23*01 & IGHJ5*01 & TGTGCGAGAGACTACGGTGGTAACGCCTACAACTGGTTCGACCCCTGG & CARDYGGNAYNWFDPW &  & S327:T>C & S338:A>G & HHHH & HH & true & true & true & true & true & S1\\\\\n",
       "\t4 & 0.01999776 & 12154 & IGHV4-38-2*01 & IGHD4-23*01 & IGHJ5*01 & TGTGCGAGAGACTACGGTGGTAACGCCTACAACTGGTTCGACCCCTGG & CARDYGGNAYNWFDPW & S278:G>C & S327:T>C & S338:A>G & HHHH & GHH & true & true & true & true & true & S1\\\\\n",
       "\t5 & 0.01752313 & 10650 & IGHV3-74*01 & IGHD2-2*01 & IGHJ4*01 & TGTGGAAGAGACTTCCGCGCGGGAGTCCCAGCTGAGTACTCG & CGRDFRAGVPAEYS &  & S289:C>G,S325:G>C & S332:A>G & HHHHHHHHHHHHHHGHHH & GGH & true & true & true & true & false & S1\\\\\n",
       "\t6 & 0.01137112 & 6911 & IGHV4-38-2*01 & IGHD4-23*01 & IGHJ5*01 & TGTGCGACAGACTACGGTGGTAACGCCTACAACTGGTTCGACCCCTGG & CATDYGGNAYNWFDPW & S278:G>C & S327:T>C & S333:G>A,S338:A>G & GHHHHH & HHGH & true & true & true & true & true & S1\\\\\n",
       "\\end{tabular}\n"
      ],
      "text/plain": [
       "Source: local data frame [6 x 18]\n",
       "\n",
       "        freq  count             v           d        j\n",
       "       (dbl)  (int)        (fctr)      (fctr)   (fctr)\n",
       "1 0.29836056 181334   IGHV1-18*01 IGHD4-17*01 IGHJ1*01\n",
       "2 0.02974819  18080 IGHV4-38-2*01 IGHD4-23*01 IGHJ5*01\n",
       "3 0.02297094  13961 IGHV4-38-2*01 IGHD4-23*01 IGHJ5*01\n",
       "4 0.01999776  12154 IGHV4-38-2*01 IGHD4-23*01 IGHJ5*01\n",
       "5 0.01752313  10650   IGHV3-74*01  IGHD2-2*01 IGHJ4*01\n",
       "6 0.01137112   6911 IGHV4-38-2*01 IGHD4-23*01 IGHJ5*01\n",
       "Variables not shown: cdr3nt (fctr), cdr3aa (fctr), mutations.FR3 (fctr),\n",
       "  mutations.CDR3 (fctr), mutations.FR4 (fctr), cdr.insert.qual (fctr),\n",
       "  mutations.qual (fctr), has.cdr3 (fctr), in.frame (fctr), no.stop (fctr),\n",
       "  complete (fctr), canonical (fctr), Sample (chr)"
      ]
     },
     "execution_count": 5,
     "metadata": {},
     "output_type": "execute_result"
    }
   ],
   "source": [
    "library(dplyr)\n",
    "\n",
    "dataframe <- as_data_frame(dataframe)\n",
    "\n",
    "# Dropping waste\n",
    "drops <- c(\"v.end.in.cdr3\", \"d.start.in.cdr3\",\n",
    "           \"d.end.in.cdr3\", \"j.start.in.cdr3\",\n",
    "           \"v.del\", \"d.del.5\", \"d.del.3\", \"j.del\",\n",
    "           \"pol.v\", \"pol.d.5\", \"pol.d.3\", \"pol.j\",\n",
    "           \"mutations.FR1\", \"mutations.CDR1\",\n",
    "           \"mutations.FR2\", \"mutations.CDR2\")\n",
    "\n",
    "dataframe <- select(dataframe, -one_of(drops))\n",
    "\n",
    "# Selecting complete CDR3 only\n",
    "dataframe <- filter(dataframe, complete == \"true\")\n",
    "\n",
    "# Printing part of the dataframe\n",
    "print(paste(\"Loaded\", nrow(dataframe), \"clonotypes from\",\n",
    "            length(files), \"samples.\"))\n",
    "head(dataframe)"
   ]
  },
  {
   "cell_type": "code",
   "execution_count": 7,
   "metadata": {
    "collapsed": false
   },
   "outputs": [
    {
     "name": "stdout",
     "output_type": "stream",
     "text": [
      "[1] 441596\n"
     ]
    },
    {
     "data": {
      "text/html": [
       "<table>\n",
       "<thead><tr><th></th><th scope=col>cdr3nt</th><th scope=col>cdr3aa</th><th scope=col>v</th><th scope=col>d</th><th scope=col>j</th><th scope=col>Sample</th><th scope=col>freq</th><th scope=col>count</th><th scope=col>mutations.CDR3</th><th scope=col>canonical</th><th scope=col>no.stop</th><th scope=col>in.frame</th></tr></thead>\n",
       "<tbody>\n",
       "\t<tr><th scope=row>1</th><td>TGTGCGAGAGATGATGGCGGGGGAAAGGGTGACTACGGAAGACTTTGG</td><td>CARDDGGGKGDYGRLW</td><td>IGHV1-18*01</td><td>IGHD4-17*01</td><td>IGHJ1*01</td><td>S1</td><td>0.299978</td><td>182317</td><td></td><td>true</td><td>true</td><td>true</td></tr>\n",
       "\t<tr><th scope=row>2</th><td>TGTGCGAGAGATGATGGCGGGGGAAAGGGTGACTACGGAAGACTTTGG</td><td>CARDDGGGKGDYGRLW</td><td>IGHV1-18*01</td><td>IGHD4-17*01</td><td>IGHJ1*01</td><td>S2</td><td>0.2027361</td><td>159948</td><td></td><td>true</td><td>true</td><td>true</td></tr>\n",
       "\t<tr><th scope=row>3</th><td>TGTGCGAGAGATGATGGCGGGGGAAAGGGTGACTACGGAAGACTTTGG</td><td>CARDDGGGKGDYGRLW</td><td>IGHV1-18*01</td><td>IGHD4-17*01</td><td>IGHJ1*01</td><td>S3</td><td>0.1987603</td><td>129098</td><td></td><td>true</td><td>true</td><td>true</td></tr>\n",
       "\t<tr><th scope=row>4</th><td>TGTGCGAGAGATGATGGCGGGGGAAAGGGTGACTACGGAAGACTTTGG</td><td>CARDDGGGKGDYGRLW</td><td>IGHV1-18*01</td><td>IGHD4-17*01</td><td>IGHJ1*01</td><td>S4</td><td>0.1894341</td><td>121579</td><td></td><td>true</td><td>true</td><td>true</td></tr>\n",
       "\t<tr><th scope=row>5</th><td>TGTGCGAGAGACTACGGTGGTAACGCCTACAACTGGTTCGACCCCTGG</td><td>CARDYGGNAYNWFDPW</td><td>IGHV4-38-2*01</td><td>IGHD4-23*01</td><td>IGHJ5*01</td><td>S2</td><td>0.06360377</td><td>50180</td><td>S327:T>C</td><td>true</td><td>true</td><td>true</td></tr>\n",
       "\t<tr><th scope=row>6</th><td>TGTGCGAGAGACTACGGTGGTAACGCCTACAACTGGTTCGACCCCTGG</td><td>CARDYGGNAYNWFDPW</td><td>IGHV4-38-2*01</td><td>IGHD4-23*01</td><td>IGHJ5*01</td><td>S1</td><td>0.07344085</td><td>44635</td><td>S327:T>C</td><td>true</td><td>true</td><td>true</td></tr>\n",
       "</tbody>\n",
       "</table>\n"
      ],
      "text/latex": [
       "\\begin{tabular}{r|llllllllllll}\n",
       "  & cdr3nt & cdr3aa & v & d & j & Sample & freq & count & mutations.CDR3 & canonical & no.stop & in.frame\\\\\n",
       "\\hline\n",
       "\t1 & TGTGCGAGAGATGATGGCGGGGGAAAGGGTGACTACGGAAGACTTTGG & CARDDGGGKGDYGRLW & IGHV1-18*01 & IGHD4-17*01 & IGHJ1*01 & S1 & 0.299978 & 182317 &  & true & true & true\\\\\n",
       "\t2 & TGTGCGAGAGATGATGGCGGGGGAAAGGGTGACTACGGAAGACTTTGG & CARDDGGGKGDYGRLW & IGHV1-18*01 & IGHD4-17*01 & IGHJ1*01 & S2 & 0.2027361 & 159948 &  & true & true & true\\\\\n",
       "\t3 & TGTGCGAGAGATGATGGCGGGGGAAAGGGTGACTACGGAAGACTTTGG & CARDDGGGKGDYGRLW & IGHV1-18*01 & IGHD4-17*01 & IGHJ1*01 & S3 & 0.1987603 & 129098 &  & true & true & true\\\\\n",
       "\t4 & TGTGCGAGAGATGATGGCGGGGGAAAGGGTGACTACGGAAGACTTTGG & CARDDGGGKGDYGRLW & IGHV1-18*01 & IGHD4-17*01 & IGHJ1*01 & S4 & 0.1894341 & 121579 &  & true & true & true\\\\\n",
       "\t5 & TGTGCGAGAGACTACGGTGGTAACGCCTACAACTGGTTCGACCCCTGG & CARDYGGNAYNWFDPW & IGHV4-38-2*01 & IGHD4-23*01 & IGHJ5*01 & S2 & 0.06360377 & 50180 & S327:T>C & true & true & true\\\\\n",
       "\t6 & TGTGCGAGAGACTACGGTGGTAACGCCTACAACTGGTTCGACCCCTGG & CARDYGGNAYNWFDPW & IGHV4-38-2*01 & IGHD4-23*01 & IGHJ5*01 & S1 & 0.07344085 & 44635 & S327:T>C & true & true & true\\\\\n",
       "\\end{tabular}\n"
      ],
      "text/plain": [
       "Source: local data frame [6 x 12]\n",
       "\n",
       "                                            cdr3nt           cdr3aa\n",
       "                                            (fctr)           (fctr)\n",
       "1 TGTGCGAGAGATGATGGCGGGGGAAAGGGTGACTACGGAAGACTTTGG CARDDGGGKGDYGRLW\n",
       "2 TGTGCGAGAGATGATGGCGGGGGAAAGGGTGACTACGGAAGACTTTGG CARDDGGGKGDYGRLW\n",
       "3 TGTGCGAGAGATGATGGCGGGGGAAAGGGTGACTACGGAAGACTTTGG CARDDGGGKGDYGRLW\n",
       "4 TGTGCGAGAGATGATGGCGGGGGAAAGGGTGACTACGGAAGACTTTGG CARDDGGGKGDYGRLW\n",
       "5 TGTGCGAGAGACTACGGTGGTAACGCCTACAACTGGTTCGACCCCTGG CARDYGGNAYNWFDPW\n",
       "6 TGTGCGAGAGACTACGGTGGTAACGCCTACAACTGGTTCGACCCCTGG CARDYGGNAYNWFDPW\n",
       "Variables not shown: v (fctr), d (fctr), j (fctr), Sample (chr), freq (dbl),\n",
       "  count (int), mutations.CDR3 (fctr), canonical (fctr), no.stop (fctr),\n",
       "  in.frame (fctr)"
      ]
     },
     "execution_count": 7,
     "metadata": {},
     "output_type": "execute_result"
    }
   ],
   "source": [
    "# Dataframe containing EHEB variants\n",
    "ehebs <- data.frame(variant = c(\"EHEB\", \"EHEB-V1\", \"EHEB-V2\"),\n",
    "                    seq = c(\"TGTGCGAGAGATGATGGCGGGGGAAAGGGTGACTACGGAAGACTTTGG\",\n",
    "                            \"TGTGGGAGAGATGATGGCGGGGGAAAGGGTGACTACGGAAGACTTTGG\",\n",
    "                            \"TGTGCGACACATGATGGCGGGGGAAAGGGTGACTACGGAAGACTTTGG\"))\n",
    "\n",
    "# Aggregate by CDR3\n",
    "\n",
    "dfg <- group_by(dataframe, cdr3nt, cdr3aa, v, d, j, Sample)\n",
    "dfg <- summarise(dfg, freq = sum(freq), count = sum(count),\n",
    "                 mutations.CDR3 = first(mutations.CDR3),\n",
    "                 canonical = first(canonical),\n",
    "                 no.stop = first(no.stop),\n",
    "                 in.frame = first(in.frame))\n",
    "dfg <- ungroup(dfg)\n",
    "dfg <- arrange(dfg, desc(count), Sample)\n",
    "\n",
    "print(nrow(dfg))\n",
    "head(dfg)"
   ]
  },
  {
   "cell_type": "code",
   "execution_count": null,
   "metadata": {
    "collapsed": true
   },
   "outputs": [],
   "source": []
  }
 ],
 "metadata": {
  "kernelspec": {
   "display_name": "R",
   "language": "R",
   "name": "ir"
  },
  "language_info": {
   "codemirror_mode": "r",
   "file_extension": ".r",
   "mimetype": "text/x-r-source",
   "name": "R",
   "pygments_lexer": "r",
   "version": "3.2.2"
  }
 },
 "nbformat": 4,
 "nbformat_minor": 0
}
